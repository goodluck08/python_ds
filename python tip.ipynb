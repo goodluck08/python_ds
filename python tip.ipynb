{
 "cells": [
  {
   "cell_type": "markdown",
   "id": "941c8fce",
   "metadata": {},
   "source": [
    "# Python tip:\n",
    "    Check memory size of an object using sys module"
   ]
  },
  {
   "cell_type": "code",
   "execution_count": 1,
   "id": "9b369843",
   "metadata": {},
   "outputs": [
    {
     "name": "stdout",
     "output_type": "stream",
     "text": [
      "Memory size of list L1: 120\n",
      "Memory size of tuple T1: 64\n",
      "Memory size of set S1: 216\n",
      "Memory size of dict D1: 232\n"
     ]
    }
   ],
   "source": [
    "import sys\n",
    "l1 = ['One','Two','Three']\n",
    "t1 = ('One','Two','Three')\n",
    "s1 = {'One','Two','Three'}\n",
    "d1 = {1: \"One\", 2: \"Two\", 3: \"Three\"}\n",
    "print(f\"Memory size of list L1: {sys.getsizeof(l1)}\")\n",
    "print(f\"Memory size of tuple T1: {sys.getsizeof(t1)}\")\n",
    "print(f\"Memory size of set S1: {sys.getsizeof(s1)}\")\n",
    "print(f\"Memory size of dict D1: {sys.getsizeof(d1)}\")"
   ]
  },
  {
   "cell_type": "markdown",
   "id": "4b4f2cfd",
   "metadata": {},
   "source": [
    "# Python tip:\n",
    "    Single line if else its super useful in day to day coding"
   ]
  },
  {
   "cell_type": "code",
   "execution_count": 2,
   "id": "a015a78e",
   "metadata": {},
   "outputs": [
    {
     "name": "stdout",
     "output_type": "stream",
     "text": [
      "got pass in maths\n",
      "got fail in english\n"
     ]
    }
   ],
   "source": [
    "maths_marks = 50\n",
    "result = 'got pass in maths' if maths_marks > 33 else 'got fail in maths'\n",
    "print(result)\n",
    "\n",
    "eng_marks = 30\n",
    "result = 'got pass in english' if eng_marks > 33 else 'got fail in english'\n",
    "print(result)"
   ]
  },
  {
   "cell_type": "markdown",
   "id": "86fc305a",
   "metadata": {},
   "source": [
    "# Python tip:\n",
    "    python filter method filters the given sequence with the help of a function that tests each element in the sequence to be true or not\n"
   ]
  },
  {
   "cell_type": "code",
   "execution_count": 3,
   "id": "2398e50e",
   "metadata": {},
   "outputs": [
    {
     "name": "stdout",
     "output_type": "stream",
     "text": [
      "<class 'filter'>\n",
      "[12, 13, 11]\n"
     ]
    }
   ],
   "source": [
    "ages = [12,25,13,21,11,32]\n",
    "minors = filter(lambda x: x<18, ages)\n",
    "print(type(minors))\n",
    "print(list(minors))"
   ]
  },
  {
   "cell_type": "code",
   "execution_count": 51,
   "id": "373e87b6",
   "metadata": {},
   "outputs": [
    {
     "name": "stdout",
     "output_type": "stream",
     "text": [
      "[12, 13, 11]\n"
     ]
    }
   ],
   "source": [
    "ages = [12,25,13,21,11,32]\n",
    "minors = list(filter(lambda x: x<18, ages))\n",
    "print(minors)"
   ]
  },
  {
   "cell_type": "markdown",
   "id": "ee0f5a41",
   "metadata": {},
   "source": [
    "# Python tip:\n",
    "    Remove duplicates from list"
   ]
  },
  {
   "cell_type": "code",
   "execution_count": 4,
   "id": "5d85b196",
   "metadata": {},
   "outputs": [
    {
     "name": "stdout",
     "output_type": "stream",
     "text": [
      "['alice', 'john', 'dennis']\n"
     ]
    }
   ],
   "source": [
    "names = ['john','alice','john','dennis','dennis']\n",
    "unique_names = list(set(names))\n",
    "print(unique_names)"
   ]
  },
  {
   "cell_type": "markdown",
   "id": "3c851249",
   "metadata": {},
   "source": [
    "# Python tip:\n",
    " Use 'zip' for combining two lists\n",
    "it allows you to combine corresponding elements from multiple lists into single. Also its easier and more efficient"
   ]
  },
  {
   "cell_type": "code",
   "execution_count": 5,
   "id": "7bae5c87",
   "metadata": {},
   "outputs": [
    {
     "name": "stdout",
     "output_type": "stream",
     "text": [
      "john 20\n",
      "alice 34\n",
      "john 23\n",
      "dennis 43\n",
      "dennis 41\n"
     ]
    }
   ],
   "source": [
    "names = ['john','alice','john','dennis','dennis']\n",
    "ages = [20,34,23,43,41]\n",
    "for i in range(len(names)):\n",
    "    print(names[i],ages[i])"
   ]
  },
  {
   "cell_type": "code",
   "execution_count": 6,
   "id": "4dd59e1c",
   "metadata": {},
   "outputs": [
    {
     "name": "stdout",
     "output_type": "stream",
     "text": [
      "john 20\n",
      "alice 34\n",
      "john 23\n",
      "dennis 43\n",
      "dennis 41\n"
     ]
    }
   ],
   "source": [
    "names = ['john','alice','john','dennis','dennis']\n",
    "ages = [20,34,23,43,41]\n",
    "for name, age in zip(names, ages):\n",
    "    print(name,age)"
   ]
  },
  {
   "cell_type": "markdown",
   "id": "9455fad8",
   "metadata": {},
   "source": [
    "# Python tip:\n",
    "Combine list, dict, set into single list with (*) astrick"
   ]
  },
  {
   "cell_type": "code",
   "execution_count": 7,
   "id": "845ef1d5",
   "metadata": {},
   "outputs": [
    {
     "name": "stdout",
     "output_type": "stream",
     "text": [
      "[1, 2, 3, 4, 5, 6, 7, 8, 9]\n"
     ]
    }
   ],
   "source": [
    "a = [1,2,3]\n",
    "b = {4,5,6}\n",
    "c = (7,8,9)\n",
    "combined_list = [*a,*b,*c]\n",
    "print(combined_list)"
   ]
  },
  {
   "cell_type": "code",
   "execution_count": null,
   "id": "ab7adff2",
   "metadata": {},
   "outputs": [],
   "source": []
  },
  {
   "cell_type": "code",
   "execution_count": null,
   "id": "56ab4560",
   "metadata": {},
   "outputs": [],
   "source": []
  }
 ],
 "metadata": {
  "kernelspec": {
   "display_name": "Python 3 (ipykernel)",
   "language": "python",
   "name": "python3"
  },
  "language_info": {
   "codemirror_mode": {
    "name": "ipython",
    "version": 3
   },
   "file_extension": ".py",
   "mimetype": "text/x-python",
   "name": "python",
   "nbconvert_exporter": "python",
   "pygments_lexer": "ipython3",
   "version": "3.9.12"
  }
 },
 "nbformat": 4,
 "nbformat_minor": 5
}
